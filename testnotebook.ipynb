{
 "cells": [
  {
   "cell_type": "code",
   "execution_count": 1,
   "metadata": {
    "collapsed": true
   },
   "outputs": [
    {
     "name": "stdout",
     "output_type": "stream",
     "text": [
      "running on device: cuda\n",
      "PyTorch version: 2.0.0+cu118\n",
      "torchvision version: 0.15.1+cu118\n"
     ]
    }
   ],
   "source": [
    "# imports smh\n",
    "import torch\n",
    "from torch import nn\n",
    "import torchvision\n",
    "from torchvision import datasets\n",
    "from torchvision.transforms import ToTensor\n",
    "import matplotlib.pyplot as plt\n",
    "\n",
    "device = \"cuda\" if torch.cuda.is_available() else \"cpu\"\n",
    "torch.set_default_device(device)\n",
    "print(f\"running on device: {device}\")\n",
    "print(f\"PyTorch version: {torch.__version__}\\ntorchvision version: {torchvision.__version__}\")"
   ]
  },
  {
   "cell_type": "code",
   "execution_count": 2,
   "outputs": [],
   "source": [
    "# define hyperparameters\n",
    "batchSize = 32\n",
    "\n",
    "# loss and optim\n",
    "learningRate = 0.03\n",
    "momentum = 0.9"
   ],
   "metadata": {
    "collapsed": false
   }
  },
  {
   "cell_type": "code",
   "execution_count": 3,
   "outputs": [
    {
     "data": {
      "text/plain": "<matplotlib.image.AxesImage at 0x234c2528410>"
     },
     "execution_count": 3,
     "metadata": {},
     "output_type": "execute_result"
    },
    {
     "data": {
      "text/plain": "<Figure size 640x480 with 1 Axes>",
      "image/png": "[encoded data removed]"
     },
     "metadata": {},
     "output_type": "display_data"
    }
   ],
   "source": [
    "from torch.utils.data import DataLoader\n",
    "\n",
    "# get data (creates dataset objects)\n",
    "trainingDataset = datasets.FashionMNIST(\"data\", train = True, download = True, transform = ToTensor())\n",
    "\n",
    "testDataset = datasets.FashionMNIST(\"data\", train = False, download = True, transform = ToTensor())\n",
    "\n",
    "# initialize dataloader (passes dataset objects through DataLoader, returns iterable)\n",
    "trainingData = DataLoader(trainingDataset, batch_size = batchSize, drop_last=True)\n",
    "testData = DataLoader(testDataset, batch_size = batchSize, drop_last=True)\n",
    "\n",
    "# data is stored in a list [] of the image as a tensor (index 0), and the label (index 1). (# of each varies on batch size)\n",
    "# second reference by index [0] is to get first image and label from the batch size of 32\n",
    "anImage = next(iter(testData))[0][0].squeeze()\n",
    "aLabel = next(iter(testData))[1][0]\n",
    "plt.imshow(anImage, cmap=\"gray\")"
   ],
   "metadata": {
    "collapsed": false
   }
  },
  {
   "cell_type": "code",
   "execution_count": 4,
   "outputs": [
    {
     "name": "stdout",
     "output_type": "stream",
     "text": [
      "torch.Size([32, 784])\n"
     ]
    },
    {
     "data": {
      "text/plain": "tensor([[-2.4768, -2.2389, -2.3317, -2.1594, -2.3292, -2.3263, -2.2747, -2.3116,\n         -2.2232, -2.3895],\n        [-2.4788, -2.2297, -2.3178, -2.1902, -2.3244, -2.3288, -2.2840, -2.2985,\n         -2.2395, -2.3629],\n        [-2.4735, -2.2138, -2.3314, -2.1904, -2.3265, -2.3266, -2.2764, -2.3033,\n         -2.2336, -2.3813],\n        [-2.4723, -2.2234, -2.3270, -2.1868, -2.3219, -2.3282, -2.2817, -2.2995,\n         -2.2333, -2.3823],\n        [-2.4798, -2.2315, -2.3159, -2.1759, -2.3296, -2.3322, -2.2777, -2.2997,\n         -2.2378, -2.3776],\n        [-2.4709, -2.2214, -2.3283, -2.1879, -2.3286, -2.3381, -2.2852, -2.2982,\n         -2.2322, -2.3644],\n        [-2.4625, -2.2310, -2.3340, -2.1944, -2.3186, -2.3292, -2.2825, -2.3105,\n         -2.2199, -2.3709],\n        [-2.4654, -2.2272, -2.3227, -2.1713, -2.3297, -2.3434, -2.2907, -2.3015,\n         -2.2393, -2.3647],\n        [-2.4767, -2.2235, -2.3407, -2.2002, -2.3276, -2.3212, -2.2797, -2.3005,\n         -2.2149, -2.3715],\n        [-2.4739, -2.2264, -2.3327, -2.1852, -2.3330, -2.3261, -2.2747, -2.3062,\n         -2.2215, -2.3779],\n        [-2.4822, -2.2344, -2.3235, -2.1890, -2.3197, -2.3256, -2.2795, -2.2950,\n         -2.2304, -2.3772],\n        [-2.4596, -2.2235, -2.3283, -2.1737, -2.3323, -2.3308, -2.2775, -2.3132,\n         -2.2371, -2.3801],\n        [-2.4719, -2.2224, -2.3386, -2.1965, -2.3286, -2.3323, -2.2811, -2.3024,\n         -2.2183, -2.3637],\n        [-2.4791, -2.2288, -2.3278, -2.1963, -2.3250, -2.3259, -2.2779, -2.3030,\n         -2.2161, -2.3772],\n        [-2.4675, -2.2344, -2.3357, -2.2089, -2.3184, -2.3285, -2.2896, -2.2993,\n         -2.2080, -2.3629],\n        [-2.4692, -2.2374, -2.3357, -2.1660, -2.3286, -2.3368, -2.2805, -2.3125,\n         -2.2148, -2.3779],\n        [-2.4640, -2.2172, -2.3443, -2.1829, -2.3309, -2.3205, -2.2790, -2.3032,\n         -2.2352, -2.3790],\n        [-2.4711, -2.2275, -2.3293, -2.1795, -2.3224, -2.3282, -2.2870, -2.2931,\n         -2.2358, -2.3828],\n        [-2.4659, -2.2330, -2.3233, -2.1770, -2.3339, -2.3396, -2.2829, -2.2997,\n         -2.2330, -2.3671],\n        [-2.4779, -2.2276, -2.3261, -2.1973, -2.3235, -2.3242, -2.2718, -2.3052,\n         -2.2226, -2.3802],\n        [-2.4807, -2.2267, -2.3271, -2.1777, -2.3244, -2.3215, -2.2728, -2.3002,\n         -2.2376, -2.3903],\n        [-2.4756, -2.2203, -2.3215, -2.1823, -2.3314, -2.3272, -2.2743, -2.3031,\n         -2.2409, -2.3805],\n        [-2.4700, -2.2224, -2.3272, -2.1768, -2.3277, -2.3231, -2.2827, -2.3072,\n         -2.2276, -2.3940],\n        [-2.4849, -2.2455, -2.3229, -2.1918, -2.3238, -2.3289, -2.2725, -2.2996,\n         -2.2208, -2.3655],\n        [-2.4682, -2.2229, -2.3335, -2.1662, -2.3354, -2.3396, -2.2799, -2.2990,\n         -2.2428, -2.3703],\n        [-2.4807, -2.2303, -2.3297, -2.1644, -2.3301, -2.3318, -2.2673, -2.3021,\n         -2.2322, -2.3932],\n        [-2.4834, -2.2417, -2.3166, -2.1884, -2.3241, -2.3342, -2.2836, -2.2969,\n         -2.2295, -2.3567],\n        [-2.4684, -2.2273, -2.3287, -2.1716, -2.3336, -2.3426, -2.2865, -2.2987,\n         -2.2357, -2.3635],\n        [-2.4718, -2.2191, -2.3269, -2.1759, -2.3318, -2.3340, -2.2720, -2.3078,\n         -2.2365, -2.3825],\n        [-2.4712, -2.2289, -2.3317, -2.1657, -2.3324, -2.3442, -2.2797, -2.2965,\n         -2.2400, -2.3677],\n        [-2.4631, -2.2322, -2.3342, -2.2095, -2.3236, -2.3266, -2.2854, -2.3002,\n         -2.2143, -2.3628],\n        [-2.4747, -2.2228, -2.3323, -2.1902, -2.3285, -2.3235, -2.2760, -2.3006,\n         -2.2325, -2.3750]], device='cuda:0', grad_fn=<LogSoftmaxBackward0>)"
     },
     "execution_count": 4,
     "metadata": {},
     "output_type": "execute_result"
    }
   ],
   "source": [
    "class Network(nn.Module):\n",
    "    def __init__(self, inputSize: int, outputSize: int, hidden_sizes=[256, 128, 64]):\n",
    "        super().__init__()\n",
    "        self.layers = nn.Sequential(\n",
    "            nn.Linear(inputSize, hidden_sizes[0]),\n",
    "            nn.ReLU(),\n",
    "            nn.Linear(hidden_sizes[0], hidden_sizes[1]),\n",
    "            nn.ReLU(),\n",
    "            nn.Linear(hidden_sizes[1], hidden_sizes[2]),\n",
    "            nn.ReLU(),\n",
    "            nn.Linear(hidden_sizes[2], outputSize),\n",
    "            nn.LogSoftmax(dim=1)\n",
    "        )\n",
    "    def forward(self, x):\n",
    "        return self.layers(x)\n",
    "\n",
    "# verify things work and im notbrainless\n",
    "images, labels = next(iter(trainingData))\n",
    "images.to(device)\n",
    "images = images.view(batchSize, -1)\n",
    "print(images.shape)\n",
    "model = Network(784, len(trainingDataset.classes))\n",
    "testoutput = model(images.to(device))\n",
    "testoutput"
   ],
   "metadata": {
    "collapsed": false
   }
  },
  {
   "cell_type": "code",
   "execution_count": 5,
   "outputs": [
    {
     "name": "stdout",
     "output_type": "stream",
     "text": [
      "Adjusting learning rate of group 0 to 3.0000e-02.\n"
     ]
    },
    {
     "data": {
      "text/plain": "torch.Size([784])"
     },
     "execution_count": 5,
     "metadata": {},
     "output_type": "execute_result"
    }
   ],
   "source": [
    "from torch.optim.lr_scheduler import *\n",
    "\n",
    "# define loss and optim functions\n",
    "lossFunc = nn.NLLLoss()\n",
    "optimizer = torch.optim.SGD(params=model.parameters(), lr=learningRate, momentum=momentum)\n",
    "scheduler1 = StepLR(optimizer=optimizer, step_size=10, gamma=0.2, verbose=True)\n",
    "\n",
    "# random stuff\n",
    "images, labels = next(iter(trainingData))\n",
    "images[0].flatten().shape"
   ],
   "metadata": {
    "collapsed": false
   }
  },
  {
   "cell_type": "code",
   "execution_count": 6,
   "outputs": [
    {
     "name": "stderr",
     "output_type": "stream",
     "text": [
      "<>:9: SyntaxWarning: \"is not\" with a literal. Did you mean \"!=\"?\n",
      "<>:9: SyntaxWarning: \"is not\" with a literal. Did you mean \"!=\"?\n",
      "C:\\Users\\hewit\\AppData\\Local\\Temp\\ipykernel_14152\\4216302459.py:9: SyntaxWarning: \"is not\" with a literal. Did you mean \"!=\"?\n",
      "  if len(prediction.shape) is not 1:\n"
     ]
    }
   ],
   "source": [
    "# setup training loop function, define other useful functions & important variables\n",
    "classNames = trainingDataset.classes\n",
    "\n",
    "from torchmetrics import Accuracy\n",
    "\n",
    "def accuracy(prediction, true):\n",
    "    # convert logits -> probability for accuracy function\n",
    "    # (check if dimension is 1 (in prediction form already bc im braindead))\n",
    "    if len(prediction.shape) is not 1:\n",
    "        prediction = getPredictedValue(prediction)\n",
    "    return torch.eq(prediction, true).sum().item()/len(prediction)\n",
    "\n",
    "def train(epochs: int):\n",
    "    test_acc = 0\n",
    "    acc = 0\n",
    "    print(f\"Training module {model.__class__.__name__} for {epochs} epochs...\")\n",
    "    model.train()\n",
    "    for epoch in range(epochs):\n",
    "        avgLoss = 0\n",
    "        for imageBatch, labelBatch in trainingData:\n",
    "            # move tensors to gpu\n",
    "            imageBatch, labelBatch = imageBatch.to(device), labelBatch.to(device)\n",
    "            # zero gradients\n",
    "            optimizer.zero_grad()\n",
    "            # resize the thing so the thing can be multiplied by the thing (god explanation)\n",
    "            imageBatch = imageBatch.view(batchSize, -1)\n",
    "            # pass batch through model\n",
    "            predictions = model(imageBatch)\n",
    "            # calculate lsos\n",
    "            loss = lossFunc(predictions, labelBatch.to(device))\n",
    "            # back propagapoatation\n",
    "            loss.backward()\n",
    "            # update weights and stuff\n",
    "            optimizer.step()\n",
    "            # add to total loss & acc (to find avg later)\n",
    "            avgLoss += loss\n",
    "            predictions = getPredictedValue(predictions)\n",
    "            acc += accuracy(predictions, labelBatch)\n",
    "        else:\n",
    "            acc /= len(trainingData)\n",
    "            # validate model with set not used for training\n",
    "            model.eval()\n",
    "            with torch.inference_mode():\n",
    "                for imageBatch, labelBatch in testData:\n",
    "                    # move tensors to gpu\n",
    "                    imageBatch, labelBatch = imageBatch.to(device), labelBatch.to(device)\n",
    "                    test_predictions = model(imageBatch.view(batchSize, -1))\n",
    "                    test_predictions = getPredictedValue(test_predictions)\n",
    "                    test_acc += accuracy(test_predictions, labelBatch)\n",
    "            test_acc /= len(testData)\n",
    "            avgLoss = avgLoss/len(trainingData)\n",
    "            # print whats happening\n",
    "            print(f\"Epoch {epoch} || Avg loss per batch: {avgLoss} || Training accuracy: {acc*100:.4f}% ||Test accuracy: {test_acc*100:.4f}%\")\n",
    "        scheduler1.step()\n",
    "    print(\"finish.\")\n",
    "    return\n",
    "\n",
    "# model quick evaluation function\n",
    "def evalModel(model: torch.nn.Module,\n",
    "               data_loader: torch.utils.data.DataLoader,\n",
    "               loss_fn: torch.nn.Module,\n",
    "               accuracyfn):\n",
    "    loss, acc = 0, 0\n",
    "    model.eval()\n",
    "    with torch.inference_mode():\n",
    "        for imageBatch, labelBatch in data_loader:\n",
    "            # Make predictions with the model\n",
    "            imageBatch = imageBatch.to(device)\n",
    "            labelBatch = labelBatch.to(device)\n",
    "            predictedLabels = model(imageBatch.view(batchSize, -1))\n",
    "\n",
    "            # Accumulate the loss and accuracy values per batch\n",
    "            loss += loss_fn(predictedLabels, labelBatch)\n",
    "            acc += accuracyfn(predictedLabels, labelBatch)\n",
    "\n",
    "        # Scale loss and acc to find the average loss/acc per batch\n",
    "        loss /= len(data_loader)\n",
    "        acc /= len(data_loader)\n",
    "\n",
    "    return {\"model_name\": model.__class__.__name__, # only works when model was created with a class\n",
    "            \"model_loss\": loss.item(),\n",
    "            \"model_acc\": acc}\n",
    "\n",
    "\n",
    "# \"Output of the network are log-probabilities, need to take exponential for probabilities\"\n",
    "# - some online tutorial\n",
    "# I do not understand but will ctrl-c ctrl-v anyway.\n",
    "# def getPredictedValue(modelOutput: torch.Tensor):\n",
    "#     ps = torch.exp(modelOutput)\n",
    "#     probab = list(ps.cpu().detach().numpy()[0])\n",
    "#     probab = probab.index(max(probab))\n",
    "#     return probab\n",
    "# I lied. better way:\n",
    "\n",
    "def getPredictedValue(modelOutput: torch.Tensor):\n",
    "    return modelOutput.argmax(dim=1)\n",
    "\n",
    "# graphs images wtih corresponding labels\n",
    "def test():\n",
    "    model.eval()\n",
    "    # get random data to pass through model\n",
    "\n",
    "    plt.figure(figsize=(9, 9))\n",
    "    with torch.inference_mode():\n",
    "        for i in range(9):\n",
    "            plt.subplot(3, 3, i+1)\n",
    "            # get random int within bounds of testDataset\n",
    "            randInt = torch.randint(high=len(testDataset), size=(1,)).item()\n",
    "            # get image and label from the tuple at index randInt\n",
    "            image, label = testDataset[randInt][0], testDataset[randInt][1]\n",
    "            # get label as the name of predicted class\n",
    "            label = classNames[label]\n",
    "            # send image through model for evaluation\n",
    "\n",
    "            output = model(image.to(device).view(1, -1))\n",
    "            # get predicted label from output of model\n",
    "            predictedLabel = getPredictedValue(output)\n",
    "            predictedLabel = classNames[predictedLabel]\n",
    "            # show image\n",
    "            plt.imshow(image.squeeze(), cmap=\"gray\")\n",
    "            # other plot things\n",
    "            titleText = f\"Pred: {predictedLabel} | Truth: {label}\"\n",
    "            if predictedLabel == label:\n",
    "                plt.title(titleText, fontsize=10, c=\"g\") # green text if correct\n",
    "            else:\n",
    "                plt.title(titleText, fontsize=10, c=\"r\") # red text if wrong\n",
    "            plt.axis(False);"
   ],
   "metadata": {
    "collapsed": false
   }
  },
  {
   "cell_type": "code",
   "execution_count": 7,
   "outputs": [
    {
     "name": "stdout",
     "output_type": "stream",
     "text": [
      "Predicted Digit = tensor([3], device='cuda:0')\n",
      "['T-shirt/top', 'Trouser', 'Pullover', 'Dress', 'Coat', 'Sandal', 'Shirt', 'Sneaker', 'Bag', 'Ankle boot']\n",
      "predicted item: Dress\n",
      "correct item: Dress\n"
     ]
    },
    {
     "data": {
      "text/plain": "<Figure size 640x480 with 1 Axes>",
      "image/png": "[encoded data removed]"
     },
     "metadata": {},
     "output_type": "display_data"
    }
   ],
   "source": [
    "# dont mind this just testing\n",
    "randInt = torch.randint(high=len(testDataset), size=(1,)).item()\n",
    "image = testDataset[randInt][0]\n",
    "label = testDataset[randInt][1]\n",
    "output = model(image.to(device).view(1, -1))\n",
    "probab = output.argmax(dim=1)\n",
    "plt.imshow(image.squeeze(), cmap=\"gray\")\n",
    "print(\"Predicted Digit =\", probab)\n",
    "print(classNames)\n",
    "print(f\"predicted item: {classNames[probab]}\")\n",
    "print(f\"correct item: {classNames[label]}\")"
   ],
   "metadata": {
    "collapsed": false
   }
  },
  {
   "cell_type": "code",
   "execution_count": 8,
   "outputs": [
    {
     "data": {
      "text/plain": "<Figure size 900x900 with 9 Axes>",
      "image/png": "[encoded data removed]"
     },
     "metadata": {},
     "output_type": "display_data"
    }
   ],
   "source": [
    "test()"
   ],
   "metadata": {
    "collapsed": false
   }
  },
  {
   "cell_type": "code",
   "execution_count": 9,
   "outputs": [
    {
     "data": {
      "text/plain": "{'model_name': 'Network',\n 'model_loss': 2.305751085281372,\n 'model_acc': 0.0999599358974359}"
     },
     "execution_count": 9,
     "metadata": {},
     "output_type": "execute_result"
    }
   ],
   "source": [
    "results = evalModel(model=model, data_loader=testData, loss_fn=lossFunc, accuracyfn=accuracy)\n",
    "results"
   ],
   "metadata": {
    "collapsed": false
   }
  },
  {
   "cell_type": "code",
   "execution_count": null,
   "outputs": [
    {
     "name": "stdout",
     "output_type": "stream",
     "text": [
      "Training module Network for 80 epochs...\n",
      "Epoch 0 || Avg loss per batch: 0.6023488640785217 || Training accuracy: 77.3483% ||Test accuracy: 79.4271%\n",
      "Adjusting learning rate of group 0 to 3.0000e-02.\n",
      "Epoch 1 || Avg loss per batch: 0.41969019174575806 || Training accuracy: 84.6529% ||Test accuracy: 83.4777%\n",
      "Adjusting learning rate of group 0 to 3.0000e-02.\n",
      "Epoch 2 || Avg loss per batch: 0.37855422496795654 || Training accuracy: 86.0951% ||Test accuracy: 85.1434%\n",
      "Adjusting learning rate of group 0 to 3.0000e-02.\n",
      "Epoch 3 || Avg loss per batch: 0.3521992266178131 || Training accuracy: 86.9993% ||Test accuracy: 85.5293%\n",
      "Adjusting learning rate of group 0 to 3.0000e-02.\n",
      "Epoch 4 || Avg loss per batch: 0.33327633142471313 || Training accuracy: 87.7047% ||Test accuracy: 87.0129%\n",
      "Adjusting learning rate of group 0 to 3.0000e-02.\n",
      "Epoch 5 || Avg loss per batch: 0.317088782787323 || Training accuracy: 88.2001% ||Test accuracy: 86.8274%\n",
      "Adjusting learning rate of group 0 to 3.0000e-02.\n",
      "Epoch 6 || Avg loss per batch: 0.30602961778640747 || Training accuracy: 88.5737% ||Test accuracy: 85.2643%\n",
      "Adjusting learning rate of group 0 to 3.0000e-02.\n",
      "Epoch 7 || Avg loss per batch: 0.2916410267353058 || Training accuracy: 89.0056% ||Test accuracy: 87.0321%\n",
      "Adjusting learning rate of group 0 to 3.0000e-02.\n",
      "Epoch 8 || Avg loss per batch: 0.28189536929130554 || Training accuracy: 89.3791% ||Test accuracy: 86.3467%\n",
      "Adjusting learning rate of group 0 to 3.0000e-02.\n",
      "Epoch 9 || Avg loss per batch: 0.27586743235588074 || Training accuracy: 89.6893% ||Test accuracy: 87.4062%\n",
      "Adjusting learning rate of group 0 to 6.0000e-03.\n",
      "Epoch 10 || Avg loss per batch: 0.22214636206626892 || Training accuracy: 91.5378% ||Test accuracy: 88.5914%\n",
      "Adjusting learning rate of group 0 to 6.0000e-03.\n",
      "Epoch 11 || Avg loss per batch: 0.2082565426826477 || Training accuracy: 92.1072% ||Test accuracy: 89.0860%\n",
      "Adjusting learning rate of group 0 to 6.0000e-03.\n",
      "Epoch 12 || Avg loss per batch: 0.20008179545402527 || Training accuracy: 92.3275% ||Test accuracy: 88.8272%\n",
      "Adjusting learning rate of group 0 to 6.0000e-03.\n",
      "Epoch 13 || Avg loss per batch: 0.1932518184185028 || Training accuracy: 92.6342% ||Test accuracy: 89.0367%\n",
      "Adjusting learning rate of group 0 to 6.0000e-03.\n",
      "Epoch 14 || Avg loss per batch: 0.18734246492385864 || Training accuracy: 92.8494% ||Test accuracy: 89.1876%\n",
      "Adjusting learning rate of group 0 to 6.0000e-03.\n",
      "Epoch 15 || Avg loss per batch: 0.18220625817775726 || Training accuracy: 93.0412% ||Test accuracy: 89.0980%\n",
      "Adjusting learning rate of group 0 to 6.0000e-03.\n",
      "Epoch 16 || Avg loss per batch: 0.17714282870292664 || Training accuracy: 93.2363% ||Test accuracy: 89.0175%\n",
      "Adjusting learning rate of group 0 to 6.0000e-03.\n",
      "Epoch 17 || Avg loss per batch: 0.1723109781742096 || Training accuracy: 93.3781% ||Test accuracy: 89.0273%\n",
      "Adjusting learning rate of group 0 to 6.0000e-03.\n",
      "Epoch 18 || Avg loss per batch: 0.16789951920509338 || Training accuracy: 93.6115% ||Test accuracy: 89.0574%\n",
      "Adjusting learning rate of group 0 to 6.0000e-03.\n",
      "Epoch 19 || Avg loss per batch: 0.16321717202663422 || Training accuracy: 93.7883% ||Test accuracy: 89.0775%\n",
      "Adjusting learning rate of group 0 to 1.2000e-03.\n",
      "Epoch 20 || Avg loss per batch: 0.15529316663742065 || Training accuracy: 94.0567% ||Test accuracy: 89.5583%\n",
      "Adjusting learning rate of group 0 to 1.2000e-03.\n"
     ]
    }
   ],
   "source": [
    "train(80)"
   ],
   "metadata": {
    "collapsed": false,
    "pycharm": {
     "is_executing": true
    }
   }
  },
  {
   "cell_type": "code",
   "execution_count": null,
   "outputs": [],
   "source": [
    "accuracy(torch.tensor([2, 2, 3, 4]), torch.tensor([2, 2, 3, 3]))\n"
   ],
   "metadata": {
    "collapsed": false,
    "pycharm": {
     "is_executing": true
    }
   }
  }
 ],
 "metadata": {
  "kernelspec": {
   "display_name": "Python 3",
   "language": "python",
   "name": "python3"
  },
  "language_info": {
   "codemirror_mode": {
    "name": "ipython",
    "version": 2
   },
   "file_extension": ".py",
   "mimetype": "text/x-python",
   "name": "python",
   "nbconvert_exporter": "python",
   "pygments_lexer": "ipython2",
   "version": "2.7.6"
  }
 },
 "nbformat": 4,
 "nbformat_minor": 0
}
